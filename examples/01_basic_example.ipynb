{
 "cells": [
  {
   "cell_type": "code",
   "execution_count": 1,
   "metadata": {
    "ExecuteTime": {
     "end_time": "2020-02-04T22:21:30.314883Z",
     "start_time": "2020-02-04T22:21:29.992158Z"
    }
   },
   "outputs": [],
   "source": [
    "import pandas as pd\n",
    "import numpy as np\n",
    "\n",
    "pd.set_option('display.max_rows', 500)\n",
    "pd.set_option('display.max_columns', 500)\n",
    "pd.set_option('display.width', 1000)\n"
   ]
  },
  {
   "cell_type": "code",
   "execution_count": 2,
   "metadata": {
    "ExecuteTime": {
     "end_time": "2020-02-04T22:21:37.244630Z",
     "start_time": "2020-02-04T22:21:30.316947Z"
    }
   },
   "outputs": [
    {
     "name": "stdout",
     "output_type": "stream",
     "text": [
      "\u001b[33mDEPRECATION: Python 2.7 will reach the end of its life on January 1st, 2020. Please upgrade your Python as Python 2.7 won't be maintained after that date. A future version of pip will drop support for Python 2.7. More details about Python 2 support in pip, can be found at https://pip.pypa.io/en/latest/development/release-process/#python-2-support\u001b[0m\n",
      "Collecting git+https://github.com/stanbiryukov/sklearn-GLMM\n",
      "  Cloning https://github.com/stanbiryukov/sklearn-GLMM to /tmp/pip-req-build-LVxt0Q\n",
      "  Running command git clone -q https://github.com/stanbiryukov/sklearn-GLMM /tmp/pip-req-build-LVxt0Q\n",
      "Requirement already satisfied: pandas>=0.24.2 in /opt/conda/envs/python2/lib/python2.7/site-packages (from sklearn-GLMM==0.1.1) (0.24.2)\n",
      "Requirement already satisfied: numpy>=1.16.0 in /opt/conda/envs/python2/lib/python2.7/site-packages (from sklearn-GLMM==0.1.1) (1.16.0)\n",
      "Requirement already satisfied: rpy2==2.8.6 in /opt/conda/envs/python2/lib/python2.7/site-packages (from sklearn-GLMM==0.1.1) (2.8.6)\n",
      "Requirement already satisfied: pytz>=2011k in /opt/conda/envs/python2/lib/python2.7/site-packages (from pandas>=0.24.2->sklearn-GLMM==0.1.1) (2019.3)\n",
      "Requirement already satisfied: python-dateutil>=2.5.0 in /opt/conda/envs/python2/lib/python2.7/site-packages (from pandas>=0.24.2->sklearn-GLMM==0.1.1) (2.8.0)\n",
      "Requirement already satisfied: six in /opt/conda/envs/python2/lib/python2.7/site-packages (from rpy2==2.8.6->sklearn-GLMM==0.1.1) (1.12.0)\n",
      "Requirement already satisfied: singledispatch in /opt/conda/envs/python2/lib/python2.7/site-packages (from rpy2==2.8.6->sklearn-GLMM==0.1.1) (3.4.0.3)\n",
      "Building wheels for collected packages: sklearn-GLMM\n",
      "  Building wheel for sklearn-GLMM (setup.py) ... \u001b[?25ldone\n",
      "\u001b[?25h  Created wheel for sklearn-GLMM: filename=sklearn_GLMM-0.1.1-cp27-none-any.whl size=6016 sha256=8bc962f56f09fc2b6695c1351e56b2284a9178d5cb2bf68914dea36f44f7d1f7\n",
      "  Stored in directory: /tmp/pip-ephem-wheel-cache-HCzdQK/wheels/f0/62/46/8c288791f884c5f11b79be91b8b3d40833c5e40b04cb9b20db\n",
      "Successfully built sklearn-GLMM\n",
      "Installing collected packages: sklearn-GLMM\n",
      "Successfully installed sklearn-GLMM-0.1.1\n",
      "\u001b[33mWARNING: You are using pip version 19.2.3, however version 20.0.2 is available.\n",
      "You should consider upgrading via the 'pip install --upgrade pip' command.\u001b[0m\n"
     ]
    }
   ],
   "source": [
    "!pip2 install git+https://github.com/stanbiryukov/sklearn-GLMM"
   ]
  },
  {
   "cell_type": "code",
   "execution_count": 3,
   "metadata": {
    "ExecuteTime": {
     "end_time": "2020-02-04T22:21:38.002916Z",
     "start_time": "2020-02-04T22:21:37.251661Z"
    }
   },
   "outputs": [],
   "source": [
    "from pyGLMM import skGLMM, r_formula\n",
    "# example from https://stats.idre.ucla.edu/r/dae/mixed-effects-logistic-regression/"
   ]
  },
  {
   "cell_type": "code",
   "execution_count": 4,
   "metadata": {
    "ExecuteTime": {
     "end_time": "2020-02-04T22:21:39.958331Z",
     "start_time": "2020-02-04T22:21:38.007800Z"
    }
   },
   "outputs": [
    {
     "data": {
      "text/html": [
       "<div>\n",
       "<style scoped>\n",
       "    .dataframe tbody tr th:only-of-type {\n",
       "        vertical-align: middle;\n",
       "    }\n",
       "\n",
       "    .dataframe tbody tr th {\n",
       "        vertical-align: top;\n",
       "    }\n",
       "\n",
       "    .dataframe thead th {\n",
       "        text-align: right;\n",
       "    }\n",
       "</style>\n",
       "<table border=\"1\" class=\"dataframe\">\n",
       "  <thead>\n",
       "    <tr style=\"text-align: right;\">\n",
       "      <th></th>\n",
       "      <th>tumorsize</th>\n",
       "      <th>co2</th>\n",
       "      <th>pain</th>\n",
       "      <th>wound</th>\n",
       "      <th>mobility</th>\n",
       "      <th>ntumors</th>\n",
       "      <th>nmorphine</th>\n",
       "      <th>remission</th>\n",
       "      <th>lungcapacity</th>\n",
       "      <th>Age</th>\n",
       "      <th>Married</th>\n",
       "      <th>FamilyHx</th>\n",
       "      <th>SmokingHx</th>\n",
       "      <th>Sex</th>\n",
       "      <th>CancerStage</th>\n",
       "      <th>LengthofStay</th>\n",
       "      <th>WBC</th>\n",
       "      <th>RBC</th>\n",
       "      <th>BMI</th>\n",
       "      <th>IL6</th>\n",
       "      <th>CRP</th>\n",
       "      <th>DID</th>\n",
       "      <th>Experience</th>\n",
       "      <th>School</th>\n",
       "      <th>Lawsuits</th>\n",
       "      <th>HID</th>\n",
       "      <th>Medicaid</th>\n",
       "    </tr>\n",
       "  </thead>\n",
       "  <tbody>\n",
       "    <tr>\n",
       "      <th>0</th>\n",
       "      <td>67.981196</td>\n",
       "      <td>1.534333</td>\n",
       "      <td>4</td>\n",
       "      <td>4</td>\n",
       "      <td>2</td>\n",
       "      <td>0</td>\n",
       "      <td>0</td>\n",
       "      <td>0</td>\n",
       "      <td>0.801088</td>\n",
       "      <td>64.968239</td>\n",
       "      <td>0</td>\n",
       "      <td>0</td>\n",
       "      <td>0</td>\n",
       "      <td>0</td>\n",
       "      <td>0</td>\n",
       "      <td>6</td>\n",
       "      <td>6087.648615</td>\n",
       "      <td>4.868416</td>\n",
       "      <td>24.144237</td>\n",
       "      <td>3.698981</td>\n",
       "      <td>8.086417</td>\n",
       "      <td>1</td>\n",
       "      <td>25</td>\n",
       "      <td>0</td>\n",
       "      <td>3</td>\n",
       "      <td>1</td>\n",
       "      <td>0.605867</td>\n",
       "    </tr>\n",
       "    <tr>\n",
       "      <th>1</th>\n",
       "      <td>64.702458</td>\n",
       "      <td>1.676132</td>\n",
       "      <td>2</td>\n",
       "      <td>3</td>\n",
       "      <td>2</td>\n",
       "      <td>0</td>\n",
       "      <td>0</td>\n",
       "      <td>0</td>\n",
       "      <td>0.326444</td>\n",
       "      <td>53.917136</td>\n",
       "      <td>0</td>\n",
       "      <td>0</td>\n",
       "      <td>0</td>\n",
       "      <td>1</td>\n",
       "      <td>0</td>\n",
       "      <td>6</td>\n",
       "      <td>6700.310486</td>\n",
       "      <td>4.679052</td>\n",
       "      <td>29.405162</td>\n",
       "      <td>2.627481</td>\n",
       "      <td>0.803488</td>\n",
       "      <td>1</td>\n",
       "      <td>25</td>\n",
       "      <td>0</td>\n",
       "      <td>3</td>\n",
       "      <td>1</td>\n",
       "      <td>0.605867</td>\n",
       "    </tr>\n",
       "    <tr>\n",
       "      <th>2</th>\n",
       "      <td>51.567001</td>\n",
       "      <td>1.533445</td>\n",
       "      <td>6</td>\n",
       "      <td>3</td>\n",
       "      <td>2</td>\n",
       "      <td>0</td>\n",
       "      <td>0</td>\n",
       "      <td>0</td>\n",
       "      <td>0.565031</td>\n",
       "      <td>53.347302</td>\n",
       "      <td>1</td>\n",
       "      <td>0</td>\n",
       "      <td>1</td>\n",
       "      <td>1</td>\n",
       "      <td>0</td>\n",
       "      <td>5</td>\n",
       "      <td>6042.809114</td>\n",
       "      <td>5.005862</td>\n",
       "      <td>29.482586</td>\n",
       "      <td>13.896153</td>\n",
       "      <td>4.034157</td>\n",
       "      <td>1</td>\n",
       "      <td>25</td>\n",
       "      <td>0</td>\n",
       "      <td>3</td>\n",
       "      <td>1</td>\n",
       "      <td>0.605867</td>\n",
       "    </tr>\n",
       "    <tr>\n",
       "      <th>3</th>\n",
       "      <td>86.437990</td>\n",
       "      <td>1.453300</td>\n",
       "      <td>3</td>\n",
       "      <td>3</td>\n",
       "      <td>2</td>\n",
       "      <td>0</td>\n",
       "      <td>0</td>\n",
       "      <td>0</td>\n",
       "      <td>0.848411</td>\n",
       "      <td>41.368043</td>\n",
       "      <td>0</td>\n",
       "      <td>0</td>\n",
       "      <td>0</td>\n",
       "      <td>0</td>\n",
       "      <td>1</td>\n",
       "      <td>5</td>\n",
       "      <td>7162.696543</td>\n",
       "      <td>5.265058</td>\n",
       "      <td>21.557259</td>\n",
       "      <td>3.008033</td>\n",
       "      <td>2.125863</td>\n",
       "      <td>1</td>\n",
       "      <td>25</td>\n",
       "      <td>0</td>\n",
       "      <td>3</td>\n",
       "      <td>1</td>\n",
       "      <td>0.605867</td>\n",
       "    </tr>\n",
       "    <tr>\n",
       "      <th>4</th>\n",
       "      <td>53.400177</td>\n",
       "      <td>1.566348</td>\n",
       "      <td>3</td>\n",
       "      <td>4</td>\n",
       "      <td>2</td>\n",
       "      <td>0</td>\n",
       "      <td>0</td>\n",
       "      <td>0</td>\n",
       "      <td>0.886491</td>\n",
       "      <td>46.800422</td>\n",
       "      <td>0</td>\n",
       "      <td>0</td>\n",
       "      <td>1</td>\n",
       "      <td>0</td>\n",
       "      <td>0</td>\n",
       "      <td>6</td>\n",
       "      <td>6443.440465</td>\n",
       "      <td>4.984259</td>\n",
       "      <td>29.815188</td>\n",
       "      <td>3.890698</td>\n",
       "      <td>1.349324</td>\n",
       "      <td>1</td>\n",
       "      <td>25</td>\n",
       "      <td>0</td>\n",
       "      <td>3</td>\n",
       "      <td>1</td>\n",
       "      <td>0.605867</td>\n",
       "    </tr>\n",
       "  </tbody>\n",
       "</table>\n",
       "</div>"
      ],
      "text/plain": [
       "   tumorsize       co2  pain  wound  mobility  ntumors  nmorphine  remission  lungcapacity        Age  Married  FamilyHx  SmokingHx  Sex  CancerStage  LengthofStay          WBC       RBC        BMI        IL6       CRP  DID  Experience  School  Lawsuits  HID  Medicaid\n",
       "0  67.981196  1.534333     4      4         2        0          0          0      0.801088  64.968239        0         0          0    0            0             6  6087.648615  4.868416  24.144237   3.698981  8.086417    1          25       0         3    1  0.605867\n",
       "1  64.702458  1.676132     2      3         2        0          0          0      0.326444  53.917136        0         0          0    1            0             6  6700.310486  4.679052  29.405162   2.627481  0.803488    1          25       0         3    1  0.605867\n",
       "2  51.567001  1.533445     6      3         2        0          0          0      0.565031  53.347302        1         0          1    1            0             5  6042.809114  5.005862  29.482586  13.896153  4.034157    1          25       0         3    1  0.605867\n",
       "3  86.437990  1.453300     3      3         2        0          0          0      0.848411  41.368043        0         0          0    0            1             5  7162.696543  5.265058  21.557259   3.008033  2.125863    1          25       0         3    1  0.605867\n",
       "4  53.400177  1.566348     3      4         2        0          0          0      0.886491  46.800422        0         0          1    0            0             6  6443.440465  4.984259  29.815188   3.890698  1.349324    1          25       0         3    1  0.605867"
      ]
     },
     "execution_count": 4,
     "metadata": {},
     "output_type": "execute_result"
    }
   ],
   "source": [
    "df = pd.read_csv('https://stats.idre.ucla.edu/stat/data/hdp.csv')\n",
    "# Factorize non-numeric\n",
    "df = df.apply(lambda x: pd.factorize(x)[0] if np.issubdtype(x.dtype, np.number) is False else x)\n",
    "df.head()"
   ]
  },
  {
   "cell_type": "code",
   "execution_count": 5,
   "metadata": {
    "ExecuteTime": {
     "end_time": "2020-02-04T22:21:39.975486Z",
     "start_time": "2020-02-04T22:21:39.962562Z"
    }
   },
   "outputs": [
    {
     "data": {
      "text/plain": [
       "\"brm(remission ~ tumorsize + co2 + pain + wound + mobility + ntumors + nmorphine + lungcapacity + Age + Married + FamilyHx + SmokingHx + Sex + CancerStage + LengthofStay + WBC + RBC + BMI + IL6 + CRP + Experience + School + Lawsuits + HID + Medicaid + (1 | DID), silent = FALSE, data = df, family = bernoulli(), refresh=0, algorithm='meanfield', iter = 1000, chains = 4, cores = 4)\""
      ]
     },
     "execution_count": 5,
     "metadata": {},
     "output_type": "execute_result"
    }
   ],
   "source": [
    "# r_formula creates a lme4 type formula from pandas columns\n",
    "form = r_formula(df, dependent_var='remission', re='(1 | DID)', excluded_cols = ['DID'])\n",
    "call = \"brm(formula, silent = FALSE, data = df, family = bernoulli(), refresh=0, algorithm='meanfield', iter = 1000, chains = 4, cores = 4)\"\n",
    "call = call.replace('formula', form)\n",
    "call"
   ]
  },
  {
   "cell_type": "code",
   "execution_count": 6,
   "metadata": {
    "ExecuteTime": {
     "end_time": "2020-02-04T22:21:39.990611Z",
     "start_time": "2020-02-04T22:21:39.979408Z"
    }
   },
   "outputs": [
    {
     "data": {
      "text/plain": [
       "\"brm(remission ~ IL6 + CRP + CancerStage + LengthofStay + Experience + (1 | DID), silent = TRUE, data = df, family = bernoulli(), refresh=0, algorithm='sampling', iter = 1000, chains = 4, cores = 4)\""
      ]
     },
     "execution_count": 6,
     "metadata": {},
     "output_type": "execute_result"
    }
   ],
   "source": [
    "excall = \"brm(remission ~ IL6 + CRP + CancerStage + LengthofStay + Experience + (1 | DID), silent = TRUE, data = df, family = bernoulli(), refresh=0, algorithm='sampling', iter = 1000, chains = 4, cores = 4)\"\n",
    "excall\n"
   ]
  },
  {
   "cell_type": "code",
   "execution_count": 7,
   "metadata": {
    "ExecuteTime": {
     "end_time": "2020-02-04T22:21:40.007865Z",
     "start_time": "2020-02-04T22:21:39.998342Z"
    }
   },
   "outputs": [],
   "source": [
    "Xcols = ['IL6', 'CRP', 'CancerStage', 'LengthofStay', 'Experience', 'DID']"
   ]
  },
  {
   "cell_type": "code",
   "execution_count": 8,
   "metadata": {
    "ExecuteTime": {
     "end_time": "2020-02-04T22:24:04.153469Z",
     "start_time": "2020-02-04T22:21:40.015978Z"
    }
   },
   "outputs": [
    {
     "name": "stdout",
     "output_type": "stream",
     "text": [
      "Starting Fit.\n",
      " Family: bernoulli \n",
      "  Links: mu = logit \n",
      "Formula: remission ~ IL6 + CRP + CancerStage + LengthofStay + Experience + (1 | DID) \n",
      "   Data: df (Number of observations: 8525) \n",
      "Samples: 4 chains, each with iter = 1000; warmup = 500; thin = 1;\n",
      "         total post-warmup samples = 2000\n",
      "\n",
      "Group-Level Effects: \n",
      "~DID (Number of levels: 407) \n",
      "              Estimate Est.Error l-95% CI u-95% CI Rhat Bulk_ESS Tail_ESS\n",
      "sd(Intercept)     1.99      0.10     1.79     2.19 1.01      379      719\n",
      "\n",
      "Population-Level Effects: \n",
      "             Estimate Est.Error l-95% CI u-95% CI Rhat Bulk_ESS Tail_ESS\n",
      "Intercept       -1.48      0.11    -1.70    -1.26 1.02      210      376\n",
      "IL6             -0.16      0.03    -0.22    -0.09 1.00     2728     1597\n",
      "CRP             -0.06      0.03    -0.12    -0.00 1.00     2674     1470\n",
      "CancerStage     -0.29      0.03    -0.35    -0.22 1.00     2491     1447\n",
      "LengthofStay    -0.31      0.03    -0.37    -0.25 1.00     2029     1520\n",
      "Experience       0.49      0.11     0.28     0.69 1.02      142      167\n",
      "\n",
      "Samples were drawn using sampling(NUTS). For each parameter, Eff.Sample \n",
      "is a crude measure of effective sample size, and Rhat is the potential \n",
      "scale reduction factor on split chains (at convergence, Rhat = 1).\n",
      "R Fit Done. It took 144 seconds\n"
     ]
    },
    {
     "name": "stderr",
     "output_type": "stream",
     "text": [
      "/opt/conda/envs/python2/lib/python2.7/site-packages/rpy2/rinterface/__init__.py:186: RRuntimeWarning: Compiling the C++ model\n",
      "\n",
      "  warnings.warn(x, RRuntimeWarning)\n",
      "/opt/conda/envs/python2/lib/python2.7/site-packages/rpy2/rinterface/__init__.py:186: RRuntimeWarning: Start sampling\n",
      "\n",
      "  warnings.warn(x, RRuntimeWarning)\n"
     ]
    }
   ],
   "source": [
    "ml = skGLMM(r_call = excall)\n",
    "ml.fit(df[Xcols], df['remission'])"
   ]
  },
  {
   "cell_type": "code",
   "execution_count": 9,
   "metadata": {
    "ExecuteTime": {
     "end_time": "2020-02-04T22:24:04.181661Z",
     "start_time": "2020-02-04T22:24:04.160271Z"
    }
   },
   "outputs": [
    {
     "name": "stdout",
     "output_type": "stream",
     "text": [
      " Family: bernoulli \n",
      "  Links: mu = logit \n",
      "Formula: remission ~ IL6 + CRP + CancerStage + LengthofStay + Experience + (1 | DID) \n",
      "   Data: df (Number of observations: 8525) \n",
      "Samples: 4 chains, each with iter = 1000; warmup = 500; thin = 1;\n",
      "         total post-warmup samples = 2000\n",
      "\n",
      "Group-Level Effects: \n",
      "~DID (Number of levels: 407) \n",
      "              Estimate Est.Error l-95% CI u-95% CI Rhat Bulk_ESS Tail_ESS\n",
      "sd(Intercept)     1.99      0.10     1.79     2.19 1.01      379      719\n",
      "\n",
      "Population-Level Effects: \n",
      "             Estimate Est.Error l-95% CI u-95% CI Rhat Bulk_ESS Tail_ESS\n",
      "Intercept       -1.48      0.11    -1.70    -1.26 1.02      210      376\n",
      "IL6             -0.16      0.03    -0.22    -0.09 1.00     2728     1597\n",
      "CRP             -0.06      0.03    -0.12    -0.00 1.00     2674     1470\n",
      "CancerStage     -0.29      0.03    -0.35    -0.22 1.00     2491     1447\n",
      "LengthofStay    -0.31      0.03    -0.37    -0.25 1.00     2029     1520\n",
      "Experience       0.49      0.11     0.28     0.69 1.02      142      167\n",
      "\n",
      "Samples were drawn using sampling(NUTS). For each parameter, Eff.Sample \n",
      "is a crude measure of effective sample size, and Rhat is the potential \n",
      "scale reduction factor on split chains (at convergence, Rhat = 1).\n"
     ]
    }
   ],
   "source": [
    "ml.summary()"
   ]
  },
  {
   "cell_type": "code",
   "execution_count": 10,
   "metadata": {
    "ExecuteTime": {
     "end_time": "2020-02-04T22:24:12.980561Z",
     "start_time": "2020-02-04T22:24:04.189725Z"
    }
   },
   "outputs": [
    {
     "name": "stderr",
     "output_type": "stream",
     "text": [
      "/opt/conda/envs/python2/lib/python2.7/site-packages/pyGLMM/_models.py:162: DataConversionWarning: Data with input dtype int64, float64 were all converted to float64 by StandardScaler.\n",
      "  X_out = self.x_scaler.transform(X)\n"
     ]
    }
   ],
   "source": [
    "phat = ml.predict(df[Xcols])"
   ]
  },
  {
   "cell_type": "code",
   "execution_count": 11,
   "metadata": {
    "ExecuteTime": {
     "end_time": "2020-02-04T22:24:17.564031Z",
     "start_time": "2020-02-04T22:24:12.986522Z"
    }
   },
   "outputs": [
    {
     "name": "stdout",
     "output_type": "stream",
     "text": [
      "  |=======================================================| 100%, Elapsed 00:02\n"
     ]
    },
    {
     "data": {
      "text/plain": [
       "(8525, 1000)"
      ]
     },
     "execution_count": 11,
     "metadata": {},
     "output_type": "execute_result"
    }
   ],
   "source": [
    "# supports sampling from posterior for BRMS and LME4\n",
    "phatdraws = ml.predict(df[Xcols], n_draws=1000, parallel=True)\n",
    "phatdraws.shape"
   ]
  },
  {
   "cell_type": "code",
   "execution_count": 12,
   "metadata": {
    "ExecuteTime": {
     "end_time": "2020-02-04T22:24:25.312073Z",
     "start_time": "2020-02-04T22:24:17.570018Z"
    }
   },
   "outputs": [
    {
     "name": "stdout",
     "output_type": "stream",
     "text": [
      "Starting Fit.\n",
      "start par. =  1 fn =  7818.875 \n",
      "At return\n",
      "eval:  26 fn:      7620.7853 par:  1.92740\n",
      "start par. =  1.927397 -1.319264 -0.1477915 -0.06047357 -0.2744597 -0.2988789 0.431074 fn =  7607.932 \n",
      "At return\n",
      "eval: 359 fn:      7605.5629 par:  1.96542 -1.47156 -0.153831 -0.0632018 -0.284760 -0.310825 0.482311\n",
      "Generalized linear mixed model fit by maximum likelihood (Adaptive\n",
      "  Gauss-Hermite Quadrature, nAGQ = 10) [glmerMod]\n",
      " Family: binomial  ( logit )\n",
      "Formula: remission ~ IL6 + CRP + CancerStage + LengthofStay + Experience +  \n",
      "    (1 | DID)\n",
      "   Data: df\n",
      "Control: glmerControl(optimizer = \"bobyqa\")\n",
      "\n",
      "     AIC      BIC   logLik deviance df.resid \n",
      "  7619.6   7668.9  -3802.8   7605.6     8518 \n",
      "\n",
      "Scaled residuals: \n",
      "    Min      1Q  Median      3Q     Max \n",
      "-3.5498 -0.4591 -0.2146  0.4320  4.5955 \n",
      "\n",
      "Random effects:\n",
      " Groups Name        Variance Std.Dev.\n",
      " DID    (Intercept) 3.863    1.965   \n",
      "Number of obs: 8525, groups:  DID, 407\n",
      "\n",
      "Fixed effects:\n",
      "             Estimate Std. Error z value Pr(>|z|)    \n",
      "(Intercept)  -1.47156    0.11010 -13.365  < 2e-16 ***\n",
      "IL6          -0.15383    0.03229  -4.764 1.90e-06 ***\n",
      "CRP          -0.06320    0.03103  -2.037   0.0417 *  \n",
      "CancerStage  -0.28476    0.03279  -8.684  < 2e-16 ***\n",
      "LengthofStay -0.31082    0.03204  -9.700  < 2e-16 ***\n",
      "Experience    0.48231    0.10924   4.415 1.01e-05 ***\n",
      "---\n",
      "Signif. codes:  0 ‘***’ 0.001 ‘**’ 0.01 ‘*’ 0.05 ‘.’ 0.1 ‘ ’ 1\n",
      "\n",
      "Correlation of Fixed Effects:\n",
      "            (Intr) IL6    CRP    CncrSt LngthS\n",
      "IL6          0.023                            \n",
      "CRP          0.006  0.001                     \n",
      "CancerStage  0.039  0.010  0.011              \n",
      "LengthofSty  0.045  0.020 -0.016 -0.164       \n",
      "Experience  -0.049 -0.006 -0.002 -0.010 -0.017\n",
      "R Fit Done. It took 8 seconds\n"
     ]
    }
   ],
   "source": [
    "# lme4 example\n",
    "mlglmer = skGLMM(r_call = \"glmer(remission ~ IL6 + CRP + CancerStage + LengthofStay + Experience + (1 | DID), data = df, verbose=1, family = 'binomial', control = glmerControl(optimizer = 'bobyqa'), nAGQ = 10)\")\n",
    "mlglmer.fit(df[Xcols], df['remission'])\n"
   ]
  },
  {
   "cell_type": "code",
   "execution_count": 13,
   "metadata": {
    "ExecuteTime": {
     "end_time": "2020-02-04T22:24:26.046870Z",
     "start_time": "2020-02-04T22:24:25.320718Z"
    }
   },
   "outputs": [
    {
     "name": "stdout",
     "output_type": "stream",
     "text": [
      "Starting Fit.\n",
      "\n",
      "Call:\n",
      "glm(formula = remission ~ IL6 + CRP + CancerStage + LengthofStay + \n",
      "    Experience, family = \"binomial\", data = df)\n",
      "\n",
      "Deviance Residuals: \n",
      "   Min      1Q  Median      3Q     Max  \n",
      "-1.444  -0.865  -0.714   1.315   2.242  \n",
      "\n",
      "Coefficients:\n",
      "             Estimate Std. Error z value Pr(>|z|)    \n",
      "(Intercept)  -0.91233    0.02470 -36.937  < 2e-16 ***\n",
      "IL6          -0.10848    0.02515  -4.314 1.61e-05 ***\n",
      "CRP          -0.05265    0.02465  -2.136   0.0326 *  \n",
      "CancerStage  -0.17560    0.02567  -6.842 7.82e-12 ***\n",
      "LengthofStay -0.22023    0.02505  -8.792  < 2e-16 ***\n",
      "Experience    0.34137    0.02470  13.821  < 2e-16 ***\n",
      "---\n",
      "Signif. codes:  0 ‘***’ 0.001 ‘**’ 0.01 ‘*’ 0.05 ‘.’ 0.1 ‘ ’ 1\n",
      "\n",
      "(Dispersion parameter for binomial family taken to be 1)\n",
      "\n",
      "    Null deviance: 10352.6  on 8524  degrees of freedom\n",
      "Residual deviance:  9983.1  on 8519  degrees of freedom\n",
      "AIC: 9995.1\n",
      "\n",
      "Number of Fisher Scoring iterations: 4\n",
      "\n",
      "R Fit Done. It took 0 seconds\n"
     ]
    }
   ],
   "source": [
    "# and other types of R models\n",
    "mlglm = skGLMM(r_call = \"glm(remission ~ IL6 + CRP + CancerStage + LengthofStay + Experience, data = df, family = 'binomial')\")\n",
    "mlglm.fit(df[Xcols], df['remission'])\n"
   ]
  },
  {
   "cell_type": "code",
   "execution_count": 14,
   "metadata": {
    "ExecuteTime": {
     "end_time": "2020-02-04T22:24:30.109935Z",
     "start_time": "2020-02-04T22:24:26.054810Z"
    }
   },
   "outputs": [
    {
     "name": "stdout",
     "output_type": "stream",
     "text": [
      "Starting Fit.\n",
      "\n",
      "Call:\n",
      "glm(formula = remission ~ IL6 + CRP + CancerStage + LengthofStay + \n",
      "    Experience, family = \"binomial\", data = df)\n",
      "\n",
      "Deviance Residuals: \n",
      "    Min       1Q   Median       3Q      Max  \n",
      "-1.5119  -0.8921  -0.7276   1.3041   2.2263  \n",
      "\n",
      "Coefficients:\n",
      "             Estimate Std. Error z value Pr(>|z|)    \n",
      "(Intercept)  -0.82743    0.02716 -30.463  < 2e-16 ***\n",
      "IL6          -0.09656    0.02759  -3.500 0.000465 ***\n",
      "CRP          -0.06324    0.02719  -2.326 0.020029 *  \n",
      "CancerStage  -0.18442    0.02822  -6.534 6.38e-11 ***\n",
      "LengthofStay -0.22370    0.02758  -8.110 5.07e-16 ***\n",
      "Experience    0.35371    0.02734  12.939  < 2e-16 ***\n",
      "---\n",
      "Signif. codes:  0 ‘***’ 0.001 ‘**’ 0.01 ‘*’ 0.05 ‘.’ 0.1 ‘ ’ 1\n",
      "\n",
      "(Dispersion parameter for binomial family taken to be 1)\n",
      "\n",
      "    Null deviance: 8480.7  on 6819  degrees of freedom\n",
      "Residual deviance: 8160.3  on 6814  degrees of freedom\n",
      "AIC: 8172.3\n",
      "\n",
      "Number of Fisher Scoring iterations: 4\n",
      "\n",
      "R Fit Done. It took 0 seconds\n",
      "Starting Fit.\n",
      "\n",
      "Call:\n",
      "glm(formula = remission ~ IL6 + CRP + CancerStage + LengthofStay + \n",
      "    Experience, family = \"binomial\", data = df)\n",
      "\n",
      "Deviance Residuals: \n",
      "    Min       1Q   Median       3Q      Max  \n",
      "-1.4278  -0.8579  -0.7072   1.3019   2.2501  \n",
      "\n",
      "Coefficients:\n",
      "             Estimate Std. Error z value Pr(>|z|)    \n",
      "(Intercept)  -0.93858    0.02780 -33.761  < 2e-16 ***\n",
      "IL6          -0.11161    0.02837  -3.934 8.34e-05 ***\n",
      "CRP          -0.04479    0.02760  -1.623    0.105    \n",
      "CancerStage  -0.15783    0.02880  -5.481 4.24e-08 ***\n",
      "LengthofStay -0.22820    0.02813  -8.112 4.96e-16 ***\n",
      "Experience    0.35454    0.02787  12.723  < 2e-16 ***\n",
      "---\n",
      "Signif. codes:  0 ‘***’ 0.001 ‘**’ 0.01 ‘*’ 0.05 ‘.’ 0.1 ‘ ’ 1\n",
      "\n",
      "(Dispersion parameter for binomial family taken to be 1)\n",
      "\n",
      "    Null deviance: 8222.6  on 6819  degrees of freedom\n",
      "Residual deviance: 7921.5  on 6814  degrees of freedom\n",
      "AIC: 7933.5\n",
      "\n",
      "Number of Fisher Scoring iterations: 4\n",
      "\n",
      "R Fit Done. It took 0 seconds\n",
      "Starting Fit.\n",
      "\n",
      "Call:\n",
      "glm(formula = remission ~ IL6 + CRP + CancerStage + LengthofStay + \n",
      "    Experience, family = \"binomial\", data = df)\n",
      "\n",
      "Deviance Residuals: \n",
      "    Min       1Q   Median       3Q      Max  \n",
      "-1.3853  -0.8712  -0.7251   1.3277   2.2073  \n",
      "\n",
      "Coefficients:\n",
      "             Estimate Std. Error z value Pr(>|z|)    \n",
      "(Intercept)  -0.89383    0.02742 -32.594  < 2e-16 ***\n",
      "IL6          -0.12142    0.02809  -4.323 1.54e-05 ***\n",
      "CRP          -0.03345    0.02725  -1.228     0.22    \n",
      "CancerStage  -0.17193    0.02850  -6.032 1.62e-09 ***\n",
      "LengthofStay -0.21699    0.02792  -7.771 7.79e-15 ***\n",
      "Experience    0.30759    0.02732  11.260  < 2e-16 ***\n",
      "---\n",
      "Signif. codes:  0 ‘***’ 0.001 ‘**’ 0.01 ‘*’ 0.05 ‘.’ 0.1 ‘ ’ 1\n",
      "\n",
      "(Dispersion parameter for binomial family taken to be 1)\n",
      "\n",
      "    Null deviance: 8315.2  on 6819  degrees of freedom\n",
      "Residual deviance: 8048.2  on 6814  degrees of freedom\n",
      "AIC: 8060.2\n",
      "\n",
      "Number of Fisher Scoring iterations: 4\n",
      "\n",
      "R Fit Done. It took 1 seconds\n",
      "Starting Fit.\n",
      "\n",
      "Call:\n",
      "glm(formula = remission ~ IL6 + CRP + CancerStage + LengthofStay + \n",
      "    Experience, family = \"binomial\", data = df)\n",
      "\n",
      "Deviance Residuals: \n",
      "    Min       1Q   Median       3Q      Max  \n",
      "-1.5416  -0.8462  -0.6798   1.2619   2.2286  \n",
      "\n",
      "Coefficients:\n",
      "             Estimate Std. Error z value Pr(>|z|)    \n",
      "(Intercept)  -0.98533    0.02835 -34.761  < 2e-16 ***\n",
      "IL6          -0.11053    0.02867  -3.855 0.000116 ***\n",
      "CRP          -0.05500    0.02816  -1.953 0.050779 .  \n",
      "CancerStage  -0.20426    0.02938  -6.951 3.62e-12 ***\n",
      "LengthofStay -0.22480    0.02851  -7.885 3.14e-15 ***\n",
      "Experience    0.42096    0.02848  14.782  < 2e-16 ***\n",
      "---\n",
      "Signif. codes:  0 ‘***’ 0.001 ‘**’ 0.01 ‘*’ 0.05 ‘.’ 0.1 ‘ ’ 1\n",
      "\n",
      "(Dispersion parameter for binomial family taken to be 1)\n",
      "\n",
      "    Null deviance: 8142.8  on 6819  degrees of freedom\n",
      "Residual deviance: 7764.8  on 6814  degrees of freedom\n",
      "AIC: 7776.8\n",
      "\n",
      "Number of Fisher Scoring iterations: 4\n",
      "\n",
      "R Fit Done. It took 0 seconds\n",
      "Starting Fit.\n",
      "\n",
      "Call:\n",
      "glm(formula = remission ~ IL6 + CRP + CancerStage + LengthofStay + \n",
      "    Experience, family = \"binomial\", data = df)\n",
      "\n",
      "Deviance Residuals: \n",
      "    Min       1Q   Median       3Q      Max  \n",
      "-1.3417  -0.8585  -0.7283   1.3510   2.1596  \n",
      "\n",
      "Coefficients:\n",
      "             Estimate Std. Error z value Pr(>|z|)    \n",
      "(Intercept)  -0.92246    0.02749 -33.554  < 2e-16 ***\n",
      "IL6          -0.10414    0.02800  -3.719   0.0002 ***\n",
      "CRP          -0.06785    0.02770  -2.449   0.0143 *  \n",
      "CancerStage  -0.16125    0.02867  -5.623 1.87e-08 ***\n",
      "LengthofStay -0.20876    0.02798  -7.461 8.61e-14 ***\n",
      "Experience    0.27062    0.02729   9.918  < 2e-16 ***\n",
      "---\n",
      "Signif. codes:  0 ‘***’ 0.001 ‘**’ 0.01 ‘*’ 0.05 ‘.’ 0.1 ‘ ’ 1\n",
      "\n",
      "(Dispersion parameter for binomial family taken to be 1)\n",
      "\n",
      "    Null deviance: 8233.3  on 6819  degrees of freedom\n",
      "Residual deviance: 8006.0  on 6814  degrees of freedom\n",
      "AIC: 8018\n",
      "\n",
      "Number of Fisher Scoring iterations: 4\n",
      "\n",
      "R Fit Done. It took 0 seconds\n"
     ]
    },
    {
     "data": {
      "text/plain": [
       "array([-0.1773876 , -0.20846035, -0.19201361, -0.22890919, -0.19891436])"
      ]
     },
     "execution_count": 14,
     "metadata": {},
     "output_type": "execute_result"
    }
   ],
   "source": [
    "# sklearn support\n",
    "from sklearn.model_selection import cross_val_score\n",
    "cross_val_score(mlglm, X=df[Xcols], y=df['remission'], n_jobs=1, cv=5, scoring='neg_mean_squared_error')"
   ]
  }
 ],
 "metadata": {
  "kernelspec": {
   "display_name": "Python 2",
   "language": "python",
   "name": "python2"
  },
  "language_info": {
   "codemirror_mode": {
    "name": "ipython",
    "version": 2
   },
   "file_extension": ".py",
   "mimetype": "text/x-python",
   "name": "python",
   "nbconvert_exporter": "python",
   "pygments_lexer": "ipython2",
   "version": "2.7.16"
  },
  "toc": {
   "base_numbering": 1,
   "nav_menu": {},
   "number_sections": true,
   "sideBar": true,
   "skip_h1_title": false,
   "title_cell": "Table of Contents",
   "title_sidebar": "Contents",
   "toc_cell": false,
   "toc_position": {},
   "toc_section_display": true,
   "toc_window_display": false
  },
  "varInspector": {
   "cols": {
    "lenName": 16,
    "lenType": 16,
    "lenVar": 40
   },
   "kernels_config": {
    "python": {
     "delete_cmd_postfix": "",
     "delete_cmd_prefix": "del ",
     "library": "var_list.py",
     "varRefreshCmd": "print(var_dic_list())"
    },
    "r": {
     "delete_cmd_postfix": ") ",
     "delete_cmd_prefix": "rm(",
     "library": "var_list.r",
     "varRefreshCmd": "cat(var_dic_list()) "
    }
   },
   "types_to_exclude": [
    "module",
    "function",
    "builtin_function_or_method",
    "instance",
    "_Feature"
   ],
   "window_display": false
  }
 },
 "nbformat": 4,
 "nbformat_minor": 2
}
